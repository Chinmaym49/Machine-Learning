{
 "cells": [
  {
   "cell_type": "code",
   "execution_count": 1,
   "metadata": {},
   "outputs": [],
   "source": [
    "import numpy as np\n",
    "import pandas as pd\n",
    "from sklearn.preprocessing import MinMaxScaler\n",
    "from sklearn.cluster import KMeans\n",
    "from sklearn.datasets import load_iris\n",
    "import matplotlib.pyplot as plt"
   ]
  },
  {
   "cell_type": "code",
   "execution_count": 2,
   "metadata": {},
   "outputs": [
    {
     "name": "stdout",
     "output_type": "stream",
     "text": [
      "['DESCR', 'data', 'feature_names', 'filename', 'target', 'target_names']\n",
      "[5.1 3.3 1.7 0.5]\n",
      "0\n",
      "['sepal length (cm)', 'sepal width (cm)', 'petal length (cm)', 'petal width (cm)']\n"
     ]
    }
   ],
   "source": [
    "tdata=load_iris()\n",
    "print(dir(tdata))\n",
    "print(tdata.data[23])\n",
    "print(tdata.target[23])\n",
    "print(tdata.feature_names)"
   ]
  },
  {
   "cell_type": "code",
   "execution_count": 3,
   "metadata": {},
   "outputs": [
    {
     "name": "stdout",
     "output_type": "stream",
     "text": [
      "   petal length (cm)  petal width (cm)\n",
      "0                1.4               0.2\n",
      "1                1.4               0.2\n",
      "2                1.3               0.2\n",
      "3                1.5               0.2\n",
      "4                1.4               0.2\n"
     ]
    }
   ],
   "source": [
    "pl=[]\n",
    "pw=[]\n",
    "for i in tdata.data:\n",
    "    pl.append(i[2])\n",
    "    pw.append(i[3])\n",
    "tdata=pd.DataFrame({\"petal length (cm)\":pl,\"petal width (cm)\":pw})\n",
    "print(tdata.head())"
   ]
  },
  {
   "cell_type": "code",
   "execution_count": 4,
   "metadata": {},
   "outputs": [
    {
     "data": {
      "text/plain": [
       "<matplotlib.collections.PathCollection at 0x243da4584e0>"
      ]
     },
     "execution_count": 4,
     "metadata": {},
     "output_type": "execute_result"
    },
    {
     "data": {
      "image/png": "[encoded data removed]",
      "text/plain": [
       "<Figure size 432x288 with 1 Axes>"
      ]
     },
     "metadata": {
      "needs_background": "light"
     },
     "output_type": "display_data"
    }
   ],
   "source": [
    "plt.xlabel(\"petal length (cm)\")\n",
    "plt.ylabel(\"petal width (cm)\")\n",
    "plt.scatter(tdata[\"petal length (cm)\"],tdata[\"petal width (cm)\"])"
   ]
  },
  {
   "cell_type": "code",
   "execution_count": 5,
   "metadata": {},
   "outputs": [
    {
     "name": "stdout",
     "output_type": "stream",
     "text": [
      "   petal length (cm)  petal width (cm)\n",
      "0           0.067797          0.041667\n",
      "1           0.067797          0.041667\n",
      "2           0.050847          0.041667\n",
      "3           0.084746          0.041667\n",
      "4           0.067797          0.041667\n"
     ]
    }
   ],
   "source": [
    "sc=MinMaxScaler()\n",
    "sc.fit(tdata[[\"petal width (cm)\"]])\n",
    "tdata[\"petal width (cm)\"]=sc.transform(tdata[[\"petal width (cm)\"]])\n",
    "sc.fit(tdata[[\"petal length (cm)\"]])\n",
    "tdata[\"petal length (cm)\"]=sc.transform(tdata[[\"petal length (cm)\"]])\n",
    "print(tdata.head())"
   ]
  },
  {
   "cell_type": "code",
   "execution_count": 6,
   "metadata": {},
   "outputs": [
    {
     "name": "stdout",
     "output_type": "stream",
     "text": [
      "[28.368353219727194, 5.176463590044367, 1.7018746881920965, 1.1588792731667126, 0.8535683225340073, 0.6801035704886196, 0.5651273455703979, 0.486178934934251, 0.4154845785171637, 0.36644820343915707, 0.3304359134562402, 0.3101252335461256, 0.2724784752929925, 0.25159131055436446, 0.24173192496209397, 0.21427916991717952, 0.19415362660002322, 0.18531311277629825, 0.17453055925564032, 0.15691356943010265, 0.15282582012754098, 0.13713170405599448, 0.13131829856375826, 0.12078566520518078]\n"
     ]
    }
   ],
   "source": [
    "sse=[]\n",
    "for i in range(1,25):\n",
    "    mdl=KMeans(n_clusters=i)\n",
    "    mdl.fit(tdata[[\"petal length (cm)\",\"petal width (cm)\"]])\n",
    "    sse.append(mdl.inertia_)\n",
    "print(sse)"
   ]
  },
  {
   "cell_type": "code",
   "execution_count": 7,
   "metadata": {},
   "outputs": [
    {
     "data": {
      "text/plain": [
       "[<matplotlib.lines.Line2D at 0x243da5151d0>]"
      ]
     },
     "execution_count": 7,
     "metadata": {},
     "output_type": "execute_result"
    },
    {
     "data": {
      "image/png": "[encoded data removed]",
      "text/plain": [
       "<Figure size 432x288 with 1 Axes>"
      ]
     },
     "metadata": {
      "needs_background": "light"
     },
     "output_type": "display_data"
    }
   ],
   "source": [
    "plt.xlabel(\"k\")\n",
    "plt.ylabel(\"sse\")\n",
    "plt.plot(list(range(1,25)),sse)"
   ]
  },
  {
   "cell_type": "code",
   "execution_count": 8,
   "metadata": {},
   "outputs": [
    {
     "name": "stdout",
     "output_type": "stream",
     "text": [
      "[1 1 1 1 1 1 1 1 1 1 1 1 1 1 1 1 1 1 1 1 1 1 1 1 1 1 1 1 1 1 1 1 1 1 1 1 1\n",
      " 1 1 1 1 1 1 1 1 1 1 1 1 1 0 0 0 0 0 0 0 0 0 0 0 0 0 0 0 0 0 0 0 0 2 0 0 0\n",
      " 0 0 0 2 0 0 0 0 0 0 0 0 0 0 0 0 0 0 0 0 0 0 0 0 0 0 2 2 2 2 2 2 0 2 2 2 2\n",
      " 2 2 2 2 2 2 2 2 0 2 2 2 2 2 2 2 2 2 2 2 2 2 0 0 2 2 2 2 2 2 2 2 2 2 2 2 2\n",
      " 2 2]\n"
     ]
    }
   ],
   "source": [
    "model=KMeans(n_clusters=3)\n",
    "print(model.fit_predict(tdata[[\"petal length (cm)\",\"petal width (cm)\"]]))\n",
    "tdata[\"prediction\"]=model.fit_predict(tdata[[\"petal length (cm)\",\"petal width (cm)\"]])"
   ]
  },
  {
   "cell_type": "code",
   "execution_count": 9,
   "metadata": {},
   "outputs": [
    {
     "data": {
      "text/plain": [
       "<matplotlib.collections.PathCollection at 0x243db214f28>"
      ]
     },
     "execution_count": 9,
     "metadata": {},
     "output_type": "execute_result"
    },
    {
     "data": {
      "image/png": "[encoded data removed]",
      "text/plain": [
       "<Figure size 432x288 with 1 Axes>"
      ]
     },
     "metadata": {
      "needs_background": "light"
     },
     "output_type": "display_data"
    }
   ],
   "source": [
    "plt.scatter(tdata[\"petal length (cm)\"],tdata[\"petal width (cm)\"])\n",
    "print(tdata)"
   ]
  },
  {
   "cell_type": "code",
   "execution_count": 21,
   "metadata": {},
   "outputs": [
    {
     "data": {
      "text/plain": [
       "<matplotlib.collections.PathCollection at 0x18376026f60>"
      ]
     },
     "execution_count": 21,
     "metadata": {},
     "output_type": "execute_result"
    },
    {
     "data": {
      "image/png": "[encoded data removed]",
      "text/plain": [
       "<Figure size 432x288 with 1 Axes>"
      ]
     },
     "metadata": {
      "needs_background": "light"
     },
     "output_type": "display_data"
    }
   ],
   "source": [
    "df1 = tdata[tdata.prediction==0]\n",
    "df2 = tdata[tdata.prediction==1]\n",
    "df3 = tdata[tdata.prediction==2]\n",
    "plt.scatter(df1[\"petal length (cm)\"],df1['petal width (cm)'],color='green')\n",
    "plt.scatter(df2[\"petal length (cm)\"],df2['petal width (cm)'],color='red')\n",
    "plt.scatter(df3[\"petal length (cm)\"],df3['petal width (cm)'],color='black')"
   ]
  },
  {
   "cell_type": "code",
   "execution_count": null,
   "metadata": {},
   "outputs": [],
   "source": []
  }
 ],
 "metadata": {
  "kernelspec": {
   "display_name": "Python 3",
   "language": "python",
   "name": "python3"
  },
  "language_info": {
   "codemirror_mode": {
    "name": "ipython",
    "version": 3
   },
   "file_extension": ".py",
   "mimetype": "text/x-python",
   "name": "python",
   "nbconvert_exporter": "python",
   "pygments_lexer": "ipython3",
   "version": "3.7.1"
  }
 },
 "nbformat": 4,
 "nbformat_minor": 2
}
