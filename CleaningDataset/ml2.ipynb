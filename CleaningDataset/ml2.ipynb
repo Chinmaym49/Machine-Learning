{
 "cells": [
  {
   "cell_type": "code",
   "execution_count": 1,
   "metadata": {},
   "outputs": [],
   "source": [
    "import numpy as np\n",
    "import pandas as pd\n",
    "from sklearn import linear_model\n",
    "import matplotlib.pyplot as plt\n",
    "import statistics as stat\n",
    "import math\n",
    "from word2number import w2n"
   ]
  },
  {
   "cell_type": "code",
   "execution_count": 2,
   "metadata": {},
   "outputs": [
    {
     "name": "stdout",
     "output_type": "stream",
     "text": [
      "  experience  test_score(out of 10)  interview_score(out of 10)  salary($)\n",
      "0        NaN                    8.0                           9      50000\n",
      "1        NaN                    8.0                           6      45000\n",
      "2       five                    6.0                           7      60000\n",
      "3        two                   10.0                          10      65000\n",
      "4      seven                    9.0                           6      70000\n",
      "5      three                    7.0                          10      62000\n",
      "6        ten                    NaN                           7      72000\n",
      "7     eleven                    7.0                           8      80000\n"
     ]
    }
   ],
   "source": [
    "tdata=pd.read_csv(\"hiring.csv\")\n",
    "print(tdata)\n"
   ]
  },
  {
   "cell_type": "code",
   "execution_count": 3,
   "metadata": {},
   "outputs": [
    {
     "name": "stderr",
     "output_type": "stream",
     "text": [
      "C:\\Users\\chinm\\Anaconda3\\lib\\site-packages\\ipykernel_launcher.py:5: SettingWithCopyWarning: \n",
      "A value is trying to be set on a copy of a slice from a DataFrame\n",
      "\n",
      "See the caveats in the documentation: http://pandas.pydata.org/pandas-docs/stable/indexing.html#indexing-view-versus-copy\n",
      "  \"\"\"\n",
      "C:\\Users\\chinm\\Anaconda3\\lib\\site-packages\\ipykernel_launcher.py:7: SettingWithCopyWarning: \n",
      "A value is trying to be set on a copy of a slice from a DataFrame\n",
      "\n",
      "See the caveats in the documentation: http://pandas.pydata.org/pandas-docs/stable/indexing.html#indexing-view-versus-copy\n",
      "  import sys\n"
     ]
    },
    {
     "name": "stdout",
     "output_type": "stream",
     "text": [
      "  experience  test_score(out of 10)  interview_score(out of 10)  salary($)\n",
      "0          0                    8.0                           9      50000\n",
      "1          0                    8.0                           6      45000\n",
      "2          5                    6.0                           7      60000\n",
      "3          2                   10.0                          10      65000\n",
      "4          7                    9.0                           6      70000\n",
      "5          3                    7.0                          10      62000\n",
      "6         10                    NaN                           7      72000\n",
      "7         11                    7.0                           8      80000\n"
     ]
    }
   ],
   "source": [
    "exp=tdata[\"experience\"]\n",
    "for i in range(len(exp)):\n",
    "    try:\n",
    "        if math.isnan(exp[i]):\n",
    "            exp[i]=0\n",
    "    except:\n",
    "        exp[i]=w2n.word_to_num(exp[i])\n",
    "tdata[\"experience\"]=exp\n",
    "print(tdata)"
   ]
  },
  {
   "cell_type": "code",
   "execution_count": 4,
   "metadata": {},
   "outputs": [
    {
     "name": "stdout",
     "output_type": "stream",
     "text": [
      "  experience  test_score(out of 10)  interview_score(out of 10)  salary($)\n",
      "0          0                    8.0                           9      50000\n",
      "1          0                    8.0                           6      45000\n",
      "2          5                    6.0                           7      60000\n",
      "3          2                   10.0                          10      65000\n",
      "4          7                    9.0                           6      70000\n",
      "5          3                    7.0                          10      62000\n",
      "6         10                    8.0                           7      72000\n",
      "7         11                    7.0                           8      80000\n"
     ]
    }
   ],
   "source": [
    "ts=list(tdata[\"test_score(out of 10)\"])\n",
    "ts1=ts.copy()\n",
    "for i in range(len(ts)):\n",
    "    if math.isnan(ts[i]):\n",
    "        ts[i]=-1\n",
    "while -1 in ts:\n",
    "    ts.remove(-1)\n",
    "x=stat.median(ts)\n",
    "for i in range(len(ts1)):\n",
    "    if math.isnan(ts1[i]):\n",
    "        ts1[i]=x\n",
    "ts=pd.Series(ts1)\n",
    "tdata[\"test_score(out of 10)\"]=ts\n",
    "print(tdata)\n"
   ]
  },
  {
   "cell_type": "code",
   "execution_count": 5,
   "metadata": {},
   "outputs": [
    {
     "data": {
      "text/plain": [
       "LinearRegression(copy_X=True, fit_intercept=True, n_jobs=None,\n",
       "         normalize=False)"
      ]
     },
     "execution_count": 5,
     "metadata": {},
     "output_type": "execute_result"
    }
   ],
   "source": [
    "reg=linear_model.LinearRegression()\n",
    "reg.fit(tdata[[\"experience\",\"test_score(out of 10)\",\"interview_score(out of 10)\"]],tdata[\"salary($)\"])"
   ]
  },
  {
   "cell_type": "code",
   "execution_count": 6,
   "metadata": {},
   "outputs": [
    {
     "name": "stdout",
     "output_type": "stream",
     "text": [
      "[59391.55749636]\n"
     ]
    }
   ],
   "source": [
    "print(reg.predict([[5,3,10]]))"
   ]
  },
  {
   "cell_type": "code",
   "execution_count": null,
   "metadata": {},
   "outputs": [],
   "source": []
  }
 ],
 "metadata": {
  "kernelspec": {
   "display_name": "Python 3",
   "language": "python",
   "name": "python3"
  },
  "language_info": {
   "codemirror_mode": {
    "name": "ipython",
    "version": 3
   },
   "file_extension": ".py",
   "mimetype": "text/x-python",
   "name": "python",
   "nbconvert_exporter": "python",
   "pygments_lexer": "ipython3",
   "version": "3.7.1"
  }
 },
 "nbformat": 4,
 "nbformat_minor": 2
}
